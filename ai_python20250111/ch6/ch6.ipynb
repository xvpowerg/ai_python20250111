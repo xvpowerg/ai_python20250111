{
 "cells": [
  {
   "cell_type": "code",
   "execution_count": 13,
   "id": "072971c4-f9b1-4aa2-b4f9-92bbfb99fbcd",
   "metadata": {},
   "outputs": [
    {
     "name": "stdin",
     "output_type": "stream",
     "text": [
      "消費項目 AA\n",
      "消費的金額 100\n",
      "消費項目 BB\n",
      "消費的金額 300\n",
      "消費項目 CC\n",
      "消費的金額 400\n",
      "消費項目 DD\n",
      "消費的金額 200\n",
      "消費項目 GG\n",
      "消費的金額 100\n"
     ]
    },
    {
     "name": "stdout",
     "output_type": "stream",
     "text": [
      "已經超支了\n",
      "{'AA': 100, 'BB': 300, 'CC': 400, 'DD': 200}\n"
     ]
    }
   ],
   "source": [
    "projDict = {}\n",
    "maxPrice = 1000\n",
    "priceSum = 0\n",
    "while True :\n",
    "    name = input(\"消費項目\")\n",
    "    price = int(input(\"消費的金額\"))\n",
    "    try:\n",
    "        if priceSum +  price > maxPrice:\n",
    "            raise OverflowError\n",
    "        projDict[name] = price\n",
    "        priceSum += price\n",
    "    except OverflowError:\n",
    "        print(\"已經超支了\")\n",
    "        break\n",
    "print(projDict)   \n",
    "        "
   ]
  },
  {
   "cell_type": "markdown",
   "id": "a7e2721d-d459-4209-9839-973bf4894caf",
   "metadata": {},
   "source": [
    "## 物件導向入門"
   ]
  },
  {
   "cell_type": "code",
   "execution_count": 12,
   "id": "e377e8a4-449f-4b82-b022-a8b5c639c172",
   "metadata": {},
   "outputs": [
    {
     "name": "stdout",
     "output_type": "stream",
     "text": [
      "m1 hp: 100 m1 sp: 60\n",
      "m2 hp: 10 m2 sp: 1\n"
     ]
    }
   ],
   "source": [
    "class Monster:\n",
    "    pass\n",
    "m1 =  Monster()\n",
    "m2 =  Monster()\n",
    "m1.hp = 100\n",
    "m1.sp = 60\n",
    "\n",
    "m2.hp = 10\n",
    "m2.sp = 1\n",
    "\n",
    "print(\"m1 hp:\",m1.hp,\"m1 sp:\",m1.sp)\n",
    "print(\"m2 hp:\",m2.hp,\"m2 sp:\",m2.sp)\n"
   ]
  },
  {
   "cell_type": "code",
   "execution_count": 21,
   "id": "fd02c757-3a5f-4f90-a55e-58b027190c3e",
   "metadata": {},
   "outputs": [
    {
     "name": "stdout",
     "output_type": "stream",
     "text": [
      "A1 100 50\n",
      "B2 120 70\n",
      "C3 0 10\n",
      "m1: 95\n",
      "m2: 120\n"
     ]
    }
   ],
   "source": [
    "class Monster:\n",
    "    #self Monster物件\n",
    "    def __init__(self,name,hp=0,sp=0):#建構式\n",
    "        self.name = name\n",
    "        self.hp = hp\n",
    "        self.sp = sp\n",
    "m1 = Monster(\"A1\",100,50)\n",
    "print(m1.name,m1.hp,m1.sp)\n",
    "m2 = Monster(\"B2\",120,70)\n",
    "m3 = Monster(\"C3\",sp=10)\n",
    "print(m2.name,m2.hp,m2.sp)\n",
    "print(m3.name,m3.hp,m3.sp)\n",
    "m1.hp -= 5\n",
    "print(\"m1:\",m1.hp)\n",
    "print(\"m2:\",m2.hp)"
   ]
  },
  {
   "cell_type": "code",
   "execution_count": 24,
   "id": "d92afba4-a457-44fe-91e9-7f80db59929b",
   "metadata": {},
   "outputs": [
    {
     "name": "stdout",
     "output_type": "stream",
     "text": [
      "Ken 18\n",
      "Iris 25\n"
     ]
    }
   ],
   "source": [
    "class Student:\n",
    "    def __init__(self,name,age=0):\n",
    "        self.name = name\n",
    "        self.age = age\n",
    "    def printInfo(self):\n",
    "        print(self.name,self.age)\n",
    "st1 = Student(\"Ken\",18)\n",
    "st2 = Student(\"Iris\",25)\n",
    "st1.printInfo()\n",
    "st2.printInfo()\n",
    "#print(st1.name,st1.age)\n",
    "#print(st2.name,st2.age)\n"
   ]
  },
  {
   "cell_type": "code",
   "execution_count": 51,
   "id": "791805a9-794e-4b90-9958-5e197b3e5777",
   "metadata": {},
   "outputs": [
    {
     "name": "stdout",
     "output_type": "stream",
     "text": [
      "Gigi 17 250 3\n",
      "83.33\n",
      "Gigi 900 250 3\n"
     ]
    }
   ],
   "source": [
    "class Student:\n",
    "    def __init__(self,name,age=0,count = 0):\n",
    "        self.name = name\n",
    "        self.age = age\n",
    "        self.score = 0\n",
    "        self.count = count \n",
    "    def printInfo(self):\n",
    "        print(self.name,self.age,self.score,self.count)\n",
    "    #希望計算成績總和\n",
    "    def addScore(self,score):\n",
    "        self.score += score\n",
    "    def scoreAvg(self):\n",
    "        result = self.score /self.count \n",
    "        print(round(result,2))\n",
    "    #平均成績取到小數點第2位\n",
    "sclist = [100,70,80]        \n",
    "scoreLen = len(sclist)\n",
    "st1 = Student(\"Gigi\",17,scoreLen)\n",
    "for s in sclist:\n",
    "    st1.addScore(s)\n",
    "\n",
    "st1.printInfo()\n",
    "st1.scoreAvg()\n",
    "# avg1 = 12.34567\n",
    "# print(round(avg1,2) )#取到小數點第2位"
   ]
  },
  {
   "cell_type": "markdown",
   "id": "474c2c9e-f0d2-419b-bf4c-9f4847710002",
   "metadata": {},
   "source": [
    "## 私有化\n",
    "### 流程\n",
    "#### 先將屬性變私有 加入__變數\n",
    "#### 加入寫入屬性的方法 存錢\n",
    "#### 加入讀取屬性的方法 領錢"
   ]
  },
  {
   "cell_type": "code",
   "execution_count": 105,
   "id": "ed75028c-6803-4dea-914a-86db0fb32f24",
   "metadata": {},
   "outputs": [
    {
     "name": "stdout",
     "output_type": "stream",
     "text": [
      "Bobo 5\n",
      "10\n",
      "Ken 10\n"
     ]
    }
   ],
   "source": [
    "class Animal:\n",
    "    def __init__(self,name,age):\n",
    "        self.__name = name\n",
    "        Animal.testAge(age)\n",
    "        #age做私有化\n",
    "        self.__age = age\n",
    "     #有self物件函數   \n",
    "    def printInfo(self):\n",
    "        print(self.__name,self.__age)\n",
    "\n",
    "    def setName(self,name):\n",
    "        Animal.testName(name)\n",
    "        self.__name = name\n",
    "    def getName(self):\n",
    "        return self.__name\n",
    "    #存錢    \n",
    "    def setAge(self,age):\n",
    "        Animal.testAge(age)\n",
    "        self.__age = age\n",
    "    #領錢    \n",
    "    def getAge(self):\n",
    "        return self.__age\n",
    "    #類別函數又稱為靜態函數  \n",
    "    def testAge(age):\n",
    "        if age < 0 or age >200:\n",
    "            raise OverflowError(f\"錯誤的年齡{age}\")\n",
    "    def testName(name):\n",
    "        if len(name) < 2:\n",
    "            raise OverflowError(f\"錯誤的name{name}\")\n",
    "            \n",
    "#name 私有化 檢查長度不可小於2            \n",
    "a1 = Animal(\"Bobo\",5)\n",
    "a1.printInfo()\n",
    "a2 = Animal(\"LuLu\",10)\n",
    "#a2.setName(\"K\")#錯誤的name\n",
    "a2.setName(\"Ken\")\n",
    "#a2.age = 900\n",
    "#a2.setAge(900)#錯誤的Age\n",
    "print(a2.getAge())\n",
    "a2.printInfo()\n",
    "Animal.testAge(20)"
   ]
  },
  {
   "cell_type": "code",
   "execution_count": 135,
   "id": "823660b8-62d7-4cdf-99fa-a04334b45f86",
   "metadata": {},
   "outputs": [
    {
     "name": "stdout",
     "output_type": "stream",
     "text": [
      "Ken 56000\n",
      "Iris 71000\n"
     ]
    }
   ],
   "source": [
    "class Employee:\n",
    "    def __init__(self,name,salary):\n",
    "        self.__name = name\n",
    "        self.__salary = salary\n",
    "    def printInfo(self):\n",
    "        print(self.__name,self.__salary) \n",
    "    def setName(self,name):\n",
    "        #None 空白\n",
    "        if name == None or  len(name) < 2:\n",
    "            raise Exception(f\"錯誤的name:{name}\")\n",
    "        self.__name = name\n",
    "    def getName(self):\n",
    "        return self.__name\n",
    "    def setSalary(self,salary):\n",
    "        if salary < 0:\n",
    "            raise OverflowError(f\"錯誤的Salary:{salary}\")\n",
    "        self.__salary = salary\n",
    "    def getSalary(self):\n",
    "        return self.__salary\n",
    "    @property\n",
    "    def name(self):\n",
    "        return self.getName()\n",
    "    @name.setter    \n",
    "    def name(self,name):\n",
    "        self.setName(name)\n",
    "    @property    \n",
    "    def salary(self):\n",
    "        return self.getSalary()\n",
    "    @salary.setter    \n",
    "    def salary(sefl,salary):\n",
    "        self.setSalary(salary)\n",
    "#salary 私有化\n",
    "#salary > 0 \n",
    "emp1 = Employee(\"Ken\",56000)\n",
    "emp1.printInfo()\n",
    "emp1.setName(\"Iris\")\n",
    "emp1.setSalary(1000)\n",
    "emp1.salary += 70000\n",
    "#emp1.name = \"J\"\n",
    "emp1.printInfo()"
   ]
  },
  {
   "cell_type": "markdown",
   "id": "1c0df355-c2ef-4106-90da-11c5d03c064c",
   "metadata": {},
   "source": [
    "### 靜態static(類別)變數與方法"
   ]
  },
  {
   "cell_type": "code",
   "execution_count": 150,
   "id": "068cc7d8-e4f2-4976-9d10-eceaf9512e07",
   "metadata": {},
   "outputs": [
    {
     "name": "stdout",
     "output_type": "stream",
     "text": [
      "GJ2 Ken Le\n",
      "GJ2 Tom AAA\n",
      "GJ2 Lucy Le\n",
      "GJ2 Tom AAA\n"
     ]
    }
   ],
   "source": [
    "class Person:\n",
    "    company=\"\"\n",
    "    def __init__(self,firstName,lastName):\n",
    "        self.firstName = firstName\n",
    "        self.lastName = lastName\n",
    "    def printInfo(self):\n",
    "        print(Person.company,self.firstName,self.lastName)\n",
    "Person.company = \"GJ\"#共用變數\n",
    "p1 = Person(\"Ken\",\"Le\")#非靜態變數都有獨立變數空間\n",
    "p2 = Person(\"Tom\",\"AAA\")\n",
    "p1.printInfo()\n",
    "p2.printInfo()\n",
    "p1.firstName = \"Lucy\"\n",
    "p1.printInfo()\n",
    "p2.printInfo()"
   ]
  },
  {
   "cell_type": "code",
   "execution_count": 153,
   "id": "6e5732be-da6f-4823-8a98-e152219318d0",
   "metadata": {},
   "outputs": [
    {
     "name": "stdout",
     "output_type": "stream",
     "text": [
      "GJ ken Le\n",
      "GJ Tom AAA\n",
      "GJ Lucy Le\n",
      "GJ Tom AAA\n"
     ]
    }
   ],
   "source": [
    "class Person:\n",
    "    company=\"\"\n",
    "    def __init__(self,firstName,lastName):\n",
    "        self.firstName = firstName\n",
    "        self.lastName = lastName\n",
    "    def printInfo(self):\n",
    "        print(Person.company,self.firstName,self.lastName)\n",
    "Person.company=\"GJ\"\n",
    "p1=Person(\"ken\",\"Le\")\n",
    "p2=Person(\"Tom\",\"AAA\")\n",
    "p1.printInfo()\n",
    "p2.printInfo()\n",
    "p1.firstName=\"Lucy\"\n",
    "p1.printInfo()\n",
    "p2.printInfo()"
   ]
  },
  {
   "cell_type": "markdown",
   "id": "521062c6-00ff-411b-91d7-3fe0ab3e4d60",
   "metadata": {},
   "source": [
    "## 繼承"
   ]
  },
  {
   "cell_type": "code",
   "execution_count": 156,
   "id": "632fcf80-39b9-4cdc-9cf8-5dd2105f777f",
   "metadata": {},
   "outputs": [
    {
     "name": "stdout",
     "output_type": "stream",
     "text": [
      "Bobo 5\n"
     ]
    }
   ],
   "source": [
    "class Animal:\n",
    "    def __init__(self,name,age):\n",
    "        self.name = name\n",
    "        self.age = age\n",
    "    def printInfo(self):\n",
    "       print(self.name,self.age)\n",
    "a1 = Animal(\"Bobo\",5)\n",
    "a1.printInfo()"
   ]
  },
  {
   "cell_type": "code",
   "execution_count": 159,
   "id": "76c3068a-cee9-4ed7-a867-078864d10d05",
   "metadata": {},
   "outputs": [
    {
     "name": "stdout",
     "output_type": "stream",
     "text": [
      "Kitty 10\n"
     ]
    }
   ],
   "source": [
    "class Cat(Animal):\n",
    "    pass\n",
    "cat1 = Cat(\"Kitty\",10)\n",
    "cat1.printInfo()"
   ]
  },
  {
   "cell_type": "markdown",
   "id": "5b373f1d-cc32-4003-ae0d-4326a5e108f0",
   "metadata": {},
   "source": [
    "## 方法覆寫"
   ]
  },
  {
   "cell_type": "code",
   "execution_count": 160,
   "id": "2edeedd5-76f4-459f-b650-d12b9cf3b827",
   "metadata": {},
   "outputs": [
    {
     "name": "stdout",
     "output_type": "stream",
     "text": [
      "Bobo 5\n",
      "Bobo 跑\n",
      "Bobo 吃\n"
     ]
    }
   ],
   "source": [
    "class Animal:\n",
    "    def __init__(self,name,age):\n",
    "        self.name = name\n",
    "        self.age = age\n",
    "    def printInfo(self):\n",
    "       print(self.name,self.age)\n",
    "    def run(self):\n",
    "        print(self.name,\"跑\")\n",
    "    def eat(self):\n",
    "        print(self.name,\"吃\")\n",
    "a1 = Animal(\"Bobo\",5)\n",
    "a1.printInfo()\n",
    "a1.run()\n",
    "a1.eat()"
   ]
  },
  {
   "cell_type": "code",
   "execution_count": 170,
   "id": "2df8080e-059c-4f3f-b393-240428685b15",
   "metadata": {},
   "outputs": [
    {
     "name": "stdout",
     "output_type": "stream",
     "text": [
      "我是貓:名稱是小鳥 跑\n",
      "我是貓:名稱是:小鳥 吃\n",
      "我是鳥:名稱是:小貓 跑\n",
      "我是鳥:名稱是:小貓 吃\n"
     ]
    }
   ],
   "source": [
    "class Cat2(Animal):\n",
    "        def run(self):\n",
    "            print(\"我是貓:名稱是\",end=\"\")\n",
    "            #super()呼叫父類別的\n",
    "            super().run()\n",
    "        def eat(self):\n",
    "            print(\"我是貓:名稱是:\",end=\"\")\n",
    "            super().eat()\n",
    "\n",
    "class Bird(Animal):\n",
    "       def printBird(self):\n",
    "           print(\"我是鳥:名稱是:\",end=\"\")\n",
    "       def run(self):\n",
    "           self.printBird()\n",
    "           super().run()\n",
    "       def eat(self):\n",
    "           self.printBird()\n",
    "           super().eat()\n",
    "cat2 = Cat2(\"小鳥\",10)\n",
    "bird1 = Bird(\"小貓\",2)\n",
    "cat2.run()\n",
    "cat2.eat()\n",
    "bird1.run()\n",
    "bird1.eat()\n"
   ]
  },
  {
   "cell_type": "markdown",
   "id": "a2ed7d76-81d7-4d0f-b56e-5bb667dc9717",
   "metadata": {},
   "source": [
    "### 多重繼承"
   ]
  },
  {
   "cell_type": "code",
   "execution_count": 174,
   "id": "62be2355-8380-4547-ae4e-02478471b995",
   "metadata": {},
   "outputs": [
    {
     "name": "stdout",
     "output_type": "stream",
     "text": [
      "[<class '__main__.C'>, <class '__main__.A'>, <class '__main__.B'>, <class '__main__.Z'>, <class '__main__.S'>, <class 'object'>]\n",
      "C.method4\n",
      "A.method3\n",
      "B.method2\n",
      "Z.method1\n"
     ]
    }
   ],
   "source": [
    "class S():\n",
    "    def method1(self):\n",
    "        print(\"S.method1\")\n",
    "    def method2(self):\n",
    "        print(\"S.method2\")\n",
    "class Z():\n",
    "    def method1(self):\n",
    "         print(\"Z.method1\")\n",
    "class A(S):\n",
    "    def method3(self):\n",
    "        print(\"A.method3\")\n",
    "class B(Z,S):\n",
    "    def method2(self):\n",
    "        print(\"B.method2\")  \n",
    "    def method3(self):\n",
    "        print(\"B.method3\")\n",
    "class C(A,B):\n",
    "    def method4(self):\n",
    "        print(\"C.method4\")\n",
    "c = C()\n",
    "print(C.mro())\n",
    "c.method4()\n",
    "c.method3()\n",
    "c.method2()\n",
    "c.method1()"
   ]
  },
  {
   "cell_type": "markdown",
   "id": "a282f6cf-73dd-4d16-8544-4db2841bb031",
   "metadata": {},
   "source": [
    "## 作業"
   ]
  },
  {
   "cell_type": "code",
   "execution_count": 177,
   "id": "44928501-99a4-4061-bda8-e4f2ecfc3286",
   "metadata": {},
   "outputs": [
    {
     "name": "stdout",
     "output_type": "stream",
     "text": [
      "11\n"
     ]
    }
   ],
   "source": [
    "class Calculate:\n",
    "    def __init__(self):\n",
    "        self.result = 0\n",
    "    def calc(a,b):\n",
    "        pass\n",
    "    def printAns(self):\n",
    "        print(self.result )\n",
    "class Add(Calculate):\n",
    "       def calc(self,a,b):\n",
    "           self.result = a + b\n",
    "#減 乘 除 \n",
    "#輸出顯示幕前的算法 加 減 乘 除 \n",
    "a1 = Add()\n",
    "a1.calc(5,6)\n",
    "a1.printAns()"
   ]
  },
  {
   "cell_type": "code",
   "execution_count": null,
   "id": "dcd88a30-3e06-42bd-9d97-878ee528569f",
   "metadata": {},
   "outputs": [],
   "source": []
  }
 ],
 "metadata": {
  "kernelspec": {
   "display_name": "Python 3 (ipykernel)",
   "language": "python",
   "name": "python3"
  },
  "language_info": {
   "codemirror_mode": {
    "name": "ipython",
    "version": 3
   },
   "file_extension": ".py",
   "mimetype": "text/x-python",
   "name": "python",
   "nbconvert_exporter": "python",
   "pygments_lexer": "ipython3",
   "version": "3.11.9"
  }
 },
 "nbformat": 4,
 "nbformat_minor": 5
}
