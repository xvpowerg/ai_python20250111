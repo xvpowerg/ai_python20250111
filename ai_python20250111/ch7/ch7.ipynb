{
 "cells": [
  {
   "cell_type": "code",
   "execution_count": 1,
   "id": "1abb8444-0deb-4c03-b989-ad8c12364d41",
   "metadata": {},
   "outputs": [
    {
     "name": "stdout",
     "output_type": "stream",
     "text": [
      "11\n",
      "2\n"
     ]
    }
   ],
   "source": [
    "class Calculate:\n",
    "    def __init__(self):\n",
    "        self.result = 0\n",
    "    def calc(a,b):\n",
    "        pass\n",
    "    def printAns(self):\n",
    "        print(self.result )\n",
    "class Add(Calculate):\n",
    "       def calc(self,a,b):\n",
    "           self.result = a + b\n",
    "class 減(Calculate):\n",
    "      def calc(self,a,b):\n",
    "          self.result = a - b\n",
    "class 乘(Calculate):\n",
    "      def calc(self,a,b):\n",
    "          self.result = a * b\n",
    "class 除(Calculate):\n",
    "      def calc(self,a,b):\n",
    "          self.result = a / b                \n",
    "#減 乘 除 \n",
    "#輸出顯示幕前的算法 加 減 乘 除 \n",
    "a1 = Add()\n",
    "a1.calc(5,6)\n",
    "a1.printAns()\n",
    "\n",
    "a2 = 減()\n",
    "a2.calc(5,3)\n",
    "a2.printAns()"
   ]
  },
  {
   "cell_type": "markdown",
   "id": "34e5343d-ba87-410c-9592-a305ebf60b90",
   "metadata": {},
   "source": [
    "## 初始化方法"
   ]
  },
  {
   "cell_type": "code",
   "execution_count": 22,
   "id": "f8ce7370-9834-4c41-8aee-9f311fadb511",
   "metadata": {},
   "outputs": [
    {
     "name": "stdout",
     "output_type": "stream",
     "text": [
      "Teacher __init__\n",
      "Person __init__\n",
      "Lucy Hello\n"
     ]
    }
   ],
   "source": [
    "class Person:\n",
    "    def __init__(self,name=\"Ken\"):\n",
    "        print(\"Person __init__\")\n",
    "        self.name = name\n",
    "    def printInfo(self):\n",
    "        print(self.name,\"Hello\")\n",
    "class Student(Person):\n",
    "    pass\n",
    "    \n",
    "class Teacher(Person):\n",
    "    def __init__(self,id,name=\"Lucy\"):\n",
    "        print(\"Teacher __init__\")\n",
    "        self.id = id\n",
    "        super().__init__(name)\n",
    "# st1 = Student(\"Vivin\")\n",
    "# st1.printInfo()\n",
    "tea1 = Teacher(\"A0001\")\n",
    "tea1.printInfo()"
   ]
  },
  {
   "cell_type": "code",
   "execution_count": 32,
   "id": "32d28988-4468-4612-ad6b-43c1a964a50c",
   "metadata": {},
   "outputs": [
    {
     "name": "stdout",
     "output_type": "stream",
     "text": [
      "(2,3)\n",
      "(-1,2)\n",
      "[1, 5, 7, 8, '(2,3)', '(-1,2)']\n"
     ]
    }
   ],
   "source": [
    "class Point:\n",
    "    def __init__(self,x = 0, y = 0):\n",
    "        self.x = x\n",
    "        self.y = y\n",
    "    def __str__(self):\n",
    "        return f\"({self.x},{self.y})\"\n",
    "p1 = Point(2,3)\n",
    "p2 = Point(-1,2)\n",
    "print(p1)\n",
    "print(p2)\n",
    "\n",
    "myList = [1,5,7,8,str(p1),str(p2)]\n",
    "print(myList)"
   ]
  },
  {
   "cell_type": "markdown",
   "id": "5e33fbd9-2e54-438d-809a-a584818ad82b",
   "metadata": {},
   "source": [
    "``` python\n",
    "__add__  +\n",
    "\n",
    "__iadd__  +=\n",
    "\n",
    "__sub__  -\n",
    "\n",
    "__isub__  -=\n",
    "\n",
    "__mul__  *\n",
    "\n",
    "__imul__  *=\n",
    "\n",
    "__truediv__   /\n",
    "\n",
    "__itruediv__   /=\n",
    "\n",
    "__floordiv__  //\n",
    "\n",
    "__ifloordiv__  //=\n",
    "\n",
    "__mod__  %\n",
    "\n",
    "__imod__  %=\n",
    "\n",
    "__pow__  **\n",
    "\n",
    "__ipow__  **=\n",
    "```"
   ]
  },
  {
   "cell_type": "code",
   "execution_count": 41,
   "id": "7dd761ef-3990-412b-8a44-a12858eafe2e",
   "metadata": {},
   "outputs": [
    {
     "name": "stdout",
     "output_type": "stream",
     "text": [
      "(2,3)\n",
      "(-1,2)\n",
      "(1,5)\n",
      "(3,1)\n"
     ]
    }
   ],
   "source": [
    "class Point:\n",
    "    def __init__(self,x = 0, y = 0):\n",
    "        self.x = x\n",
    "        self.y = y\n",
    "    def __str__(self):\n",
    "        return f\"({self.x},{self.y})\"\n",
    "    def __add__(v1,v2):    \n",
    "        x = v1.x + v2.x\n",
    "        y = v1.y + v2.y\n",
    "        return Point(x,y)\n",
    "    def __sub__(v1,v2):     \n",
    "        x = v1.x - v2.x\n",
    "        y = v1.y - v2.y\n",
    "        return Point(x,y)\n",
    "        \n",
    "p1 = Point(2,3)\n",
    "p2 = Point(-1,2)\n",
    "print(p1)\n",
    "print(p2)\n",
    "p3 = p1 + p2\n",
    "print(p3)\n",
    "p4 = p1 - p2\n",
    "print(p4)"
   ]
  },
  {
   "cell_type": "code",
   "execution_count": 64,
   "id": "53250947-5103-44d1-aaa4-b1c2502e30e4",
   "metadata": {},
   "outputs": [
    {
     "name": "stdout",
     "output_type": "stream",
     "text": [
      "13\n",
      "2\n",
      "False\n",
      "True\n",
      "(1,1) (2,3) (4,9) (12,18) (27,38) \n",
      " ========================\n"
     ]
    }
   ],
   "source": [
    "class Point:\n",
    "    def __init__(self,x = 0, y = 0):\n",
    "        self.x = x\n",
    "        self.y = y\n",
    "    def __str__(self):\n",
    "        return f\"({self.x},{self.y})\"\n",
    "    def __len__(self):\n",
    "        self_len = self.x ** 2 + self.y ** 2\n",
    "        return self_len\n",
    "    def __lt__(self,other):    \n",
    "        self_len = len(self)\n",
    "        other_len = len(other)\n",
    "        return self_len < other_len\n",
    "    def __eq__(self,other):    \n",
    "        return len(self) == len(other)\n",
    "p1 = Point(2,3)\n",
    "p2 = Point(1,1)\n",
    "p3 = Point(4,9)\n",
    "p4 = Point(27,38)\n",
    "p5 = Point(12,18)\n",
    "p6 = Point(2,3)\n",
    "print(len(p1))\n",
    "print(len(p2))\n",
    "print(p1 < p2)\n",
    "print(p1 == p6)\n",
    "pList = [p1,p2,p3,p4,p5] \n",
    "pList.sort()\n",
    "for p in pList:\n",
    "    print(p,end=\" \")\n",
    "print(\"\\n ========================\")    "
   ]
  },
  {
   "cell_type": "markdown",
   "id": "cff680db-5c16-47c3-bd45-b7c5ac4643f8",
   "metadata": {},
   "source": [
    "## 目錄管理\n",
    "\n",
    "我們可以使用 os 模組的 getcwd() 方法獲取當前工作目錄。\n",
    "\n",
    "此方法以字串形式返回當前工作目錄。 \n",
    "\n",
    "請動手操作，並留意輸出結果"
   ]
  },
  {
   "cell_type": "code",
   "execution_count": 69,
   "id": "a4730d72-e3ca-4550-b86b-ab341eda6769",
   "metadata": {},
   "outputs": [
    {
     "name": "stdout",
     "output_type": "stream",
     "text": [
      "C:\\Users\\xvpow\\ai_python20250111\\ch7\n"
     ]
    }
   ],
   "source": [
    "import os\n",
    "print(os.getcwd())"
   ]
  },
  {
   "cell_type": "markdown",
   "id": "0d59b267-02ac-4815-9546-0a53ef489333",
   "metadata": {},
   "source": [
    "# 模組與套件\n",
    "引用 python 檔案就以檔案的主檔案名稱作為模組名稱，\n",
    "\n",
    "+ 共有以下三種方式：\n",
    "+ import 模組\n",
    "+ import 模組 as 新模組名稱\n",
    "+ from 模組 import 模組內方法\n",
    "  + 不建議 from 模組 import *，易造成名稱衝突!\n"
   ]
  },
  {
   "cell_type": "code",
   "execution_count": 1,
   "id": "588ae640-3338-47c5-a266-013e6a9bb4e2",
   "metadata": {},
   "outputs": [
    {
     "name": "stdout",
     "output_type": "stream",
     "text": [
      "Create\n",
      "func1\n"
     ]
    }
   ],
   "source": [
    "import modu\n",
    "obj1 = modu.Test1()\n",
    "modu.fun1()"
   ]
  },
  {
   "cell_type": "code",
   "execution_count": 5,
   "id": "ea023a9a-1f3a-45f2-b676-571782eb5d62",
   "metadata": {},
   "outputs": [
    {
     "name": "stdout",
     "output_type": "stream",
     "text": [
      "Happy Python!\n",
      "IO Python!\n"
     ]
    }
   ],
   "source": [
    "import happy.my_mod\n",
    "import myio.my_mod\n",
    "happy.my_mod.happy_python()\n",
    "myio.my_mod.happy_python()\n"
   ]
  },
  {
   "cell_type": "code",
   "execution_count": 6,
   "id": "afe323c6-4ee3-4982-a66b-00462b6cc321",
   "metadata": {},
   "outputs": [
    {
     "name": "stdout",
     "output_type": "stream",
     "text": [
      "Happy Python!\n",
      "IO Python!\n"
     ]
    }
   ],
   "source": [
    "import happy.my_mod as hmymod\n",
    "import myio.my_mod as iomymod\n",
    "hmymod.happy_python()\n",
    "iomymod.happy_python()"
   ]
  },
  {
   "cell_type": "code",
   "execution_count": 8,
   "id": "8232236c-df59-46d6-ba72-b43879d8ddc5",
   "metadata": {},
   "outputs": [
    {
     "name": "stdout",
     "output_type": "stream",
     "text": [
      "Happy Python!\n",
      "IO Python!\n"
     ]
    }
   ],
   "source": [
    "from happy.my_mod import happy_python\n",
    "happy_python()\n",
    "iomymod.happy_python()"
   ]
  },
  {
   "cell_type": "code",
   "execution_count": 11,
   "id": "a0c3dd3e-0497-4cc2-9cc5-42a5b7bd53d0",
   "metadata": {},
   "outputs": [
    {
     "name": "stdout",
     "output_type": "stream",
     "text": [
      "C:\\Users\\xvpow\\ai_python20250111\\ch7\n",
      "['.ipynb_checkpoints', 'ch7.ipynb', 'happy', 'modu.py', 'myio', '__pycache__']\n"
     ]
    }
   ],
   "source": [
    "import os\n",
    "print(os.getcwd())\n",
    "print(os.listdir())"
   ]
  },
  {
   "cell_type": "code",
   "execution_count": 12,
   "id": "5180fd9f-7da9-4f1b-af7c-7ee14ebe03d5",
   "metadata": {},
   "outputs": [
    {
     "name": "stdout",
     "output_type": "stream",
     "text": [
      "路徑: .\n",
      "目錄: ['.ipynb_checkpoints', 'happy', 'myio', '__pycache__']\n",
      "檔案: ['ch7.ipynb', 'modu.py']\n",
      "路徑: .\\.ipynb_checkpoints\n",
      "目錄: []\n",
      "檔案: ['ch7-checkpoint.ipynb']\n",
      "路徑: .\\happy\n",
      "目錄: ['__pycache__']\n",
      "檔案: ['my_mod.py']\n",
      "路徑: .\\happy\\__pycache__\n",
      "目錄: []\n",
      "檔案: ['my_mod.cpython-311.pyc']\n",
      "路徑: .\\myio\n",
      "目錄: ['.ipynb_checkpoints', '__pycache__']\n",
      "檔案: ['my_mod.py']\n",
      "路徑: .\\myio\\.ipynb_checkpoints\n",
      "目錄: []\n",
      "檔案: ['my_mod-checkpoint.py']\n",
      "路徑: .\\myio\\__pycache__\n",
      "目錄: []\n",
      "檔案: ['my_mod.cpython-311.pyc']\n",
      "路徑: .\\__pycache__\n",
      "目錄: []\n",
      "檔案: ['modu.cpython-311.pyc']\n"
     ]
    }
   ],
   "source": [
    "from os import walk\n",
    "mypath = \".\"\n",
    "for root,dirs,files in walk(mypath):\n",
    "    print(\"路徑:\",root)\n",
    "    print(\"目錄:\",dirs)\n",
    "    print(\"檔案:\",files)"
   ]
  },
  {
   "cell_type": "markdown",
   "id": "34e7f421-2eab-4b21-ae8a-41e39524d646",
   "metadata": {},
   "source": [
    "## 檔案存取\n",
    "\n",
    "file object = open(file_name [, access_mode])\n",
    "\n",
    "UTF8 編碼資料還請加入另一個參數才可避免亂碼：encoding=‘utf-8'\n",
    "file object = open(file_name [, access_mode])\n",
    "\n",
    "參數說明\n",
    "\n",
    "file_name：file_name 參數是一個字串資料，代表包含要連結的文件名稱。\n",
    "\n",
    "access_mode：access_mode 確定文件必須打開的模式，包括讀取、寫入、附加等等。稍後會列完整列表。這是可選參數，默認文件訪問模式為讀取(r)。\n",
    "\n",
    "|模式\t|可做操作|若檔案不存在|是否覆蓋|\n",
    "|----|--------|-----------|-------|\n",
    "|r\t|只能讀|報錯\t|-|\n",
    "|r+\t|可讀可寫|報錯|是|\n",
    "|w\t|只能寫|建立|是|\n",
    "|w+ |可讀可寫|建立|是|\n",
    "|a　|只能寫|建立|否，追加寫|\n",
    "|a+\t|可讀可寫|建立|否，追加寫|"
   ]
  },
  {
   "cell_type": "code",
   "execution_count": 31,
   "id": "aba04260-f314-431a-a12d-c1c801b6b06c",
   "metadata": {},
   "outputs": [],
   "source": [
    "text = \"\"\"python與中文AAA\n",
    "1. 我們來試試看中文儲存能力。\n",
    "2. 許這個字會有編碼衝突風險。\n",
    "3. 犇這個字必須是utf8編碼才有。\n",
    "\"\"\"\n",
    "print(text,file=open(\"data.txt\",\"w\",encoding=\"utf-8\"))"
   ]
  },
  {
   "cell_type": "code",
   "execution_count": 21,
   "id": "e73e455c-a192-49bb-a8ea-1939e616da0c",
   "metadata": {},
   "outputs": [],
   "source": [
    "text = \"\"\"python與中文AAA\n",
    "1. 我們來試試看中文儲存能力。\n",
    "2. 許這個字會有編碼衝突風險。\n",
    "3. 犇這個字必須是utf8編碼才有。\n",
    "\"\"\"\n",
    "file = open(\"data2.txt\",\"w\",encoding=\"utf-8\")\n",
    "file.write(text)\n",
    "file.close()"
   ]
  },
  {
   "cell_type": "code",
   "execution_count": 24,
   "id": "07e56930-7051-40e5-8d93-c3c1767e1bdf",
   "metadata": {},
   "outputs": [],
   "source": [
    "text = \"\"\"ABCDEF\n",
    "\"\"\"\n",
    "file = open(\"data3.txt\",\"w\",encoding=\"utf-8\")\n",
    "file.write(text)\n",
    "file.close()"
   ]
  },
  {
   "cell_type": "code",
   "execution_count": 28,
   "id": "1e9ba6bf-a005-4751-b0e8-82d5e57cc209",
   "metadata": {},
   "outputs": [
    {
     "name": "stdin",
     "output_type": "stream",
     "text": [
      "請輸入數字(quit離開) 123\n",
      "請輸入數字(quit離開) 895\n",
      "請輸入數字(quit離開) 771\n",
      "請輸入數字(quit離開) qwit\n",
      "請輸入數字(quit離開) quit\n"
     ]
    }
   ],
   "source": [
    "dataList = []\n",
    "while True:\n",
    "    score = input(\"請輸入數字(quit離開)\")\n",
    "    if score == \"quit\":\n",
    "        break\n",
    "    dataList.append(score)     \n",
    "file = open(\"score.txt\",\"w\",encoding=\"utf-8\")\n",
    "file.write(str(dataList))\n",
    "file.close()"
   ]
  },
  {
   "cell_type": "code",
   "execution_count": 32,
   "id": "29f112aa-06fd-44d8-a3da-d67dd760bf86",
   "metadata": {},
   "outputs": [
    {
     "name": "stdout",
     "output_type": "stream",
     "text": [
      "python與中文AAA\n",
      "1. 我們來試試看中文儲存能力。\n",
      "2. 許這個字會有編碼衝突風險。\n",
      "3. 犇這個字必須是utf8編碼才有。\n",
      "\n",
      "\n"
     ]
    }
   ],
   "source": [
    "f = open(\"data.txt\",\"r\",encoding=\"utf-8\")\n",
    "content = f.read()\n",
    "print(content)\n",
    "f.close()"
   ]
  },
  {
   "cell_type": "code",
   "execution_count": 33,
   "id": "1f55cb00-58c9-4ffe-bd4e-29a35737ec03",
   "metadata": {},
   "outputs": [
    {
     "name": "stdout",
     "output_type": "stream",
     "text": [
      "python與中文AAA\n",
      "1. 我們來試試看中文儲存能力。\n",
      "2. 許這個字會有編碼衝突風險。\n",
      "3. 犇這個字必須是utf8編碼才有。\n",
      "\n",
      "\n"
     ]
    }
   ],
   "source": [
    "f = open(\"data.txt\",\"r\",encoding=\"utf-8\")\n",
    "content = f.read()\n",
    "print(content)\n",
    "f.close()"
   ]
  },
  {
   "cell_type": "markdown",
   "id": "f64f1f22-e4c4-40d6-8f64-6ceda4138208",
   "metadata": {},
   "source": [
    "## CSV\n",
    "+ CSV 格式是資料庫最常用的導入和導出格式。\n",
    "+ 資料均沒有類型，一切都是字串。\n",
    "+ 沒有字體或顏色與儲存格寬度高度的設置。\n",
    "+ Python 語法必須加入 import csv。\n",
    "+ 讀取儲存格資料：\n",
    "  + reader( )：依照每一列的編號 由0開始\n",
    "  + DictReader( )\n",
    "    + 以第一列的值為每一行的名稱，第一列不是資料\n",
    "    + 也可以重新命名，但第一列必須是資料"
   ]
  },
  {
   "cell_type": "markdown",
   "id": "13ce08f1-f6b9-47f1-8936-7f857cc12e9e",
   "metadata": {},
   "source": [
    "### Read"
   ]
  },
  {
   "cell_type": "code",
   "execution_count": 39,
   "id": "81fd97db-389b-4d2d-812d-52f97d95356d",
   "metadata": {},
   "outputs": [
    {
     "name": "stdout",
     "output_type": "stream",
     "text": [
      " 104/01/02 2,104,640,545 50,472,201,894\n",
      " 104/01/03 2,640,781,030 64,138,886,194\n",
      " 104/01/04 2,983,756,821 75,845,629,353\n",
      " 104/01/05 3,062,757,248 76,850,752,698\n",
      " 104/01/06 3,314,147,435 88,101,921,548\n",
      " 104/01/09 2,610,433,477 71,323,370,369\n",
      " 104/01/10 3,595,611,551 97,168,542,017\n",
      " 104/01/11 3,322,390,467 88,786,671,892\n",
      " 104/01/12 2,969,248,375 78,947,910,460\n",
      " 104/01/13 3,497,838,901 99,286,437,370\n",
      " 104/01/16 3,184,795,667 76,842,611,338\n",
      " 104/01/17 3,720,277,205 101,133,309,290\n",
      " 104/01/18 4,088,756,925 113,988,641,382\n",
      " 104/01/30 4,540,373,544 143,900,658,474\n",
      " 104/01/31 5,486,734,180 162,361,181,834\n"
     ]
    }
   ],
   "source": [
    "import csv\n",
    "f = open(\"example1.csv\",\"r\")\n",
    "for row in csv.reader(f):\n",
    "    print(row[0],row[1],row[2])\n",
    "f.close()    "
   ]
  },
  {
   "cell_type": "code",
   "execution_count": 36,
   "id": "fb2e243c-ae73-4c1b-a728-661c0ff41353",
   "metadata": {},
   "outputs": [
    {
     "name": "stdout",
     "output_type": "stream",
     "text": [
      " 104/01/02 50,472,201,894\n",
      " 104/01/03 64,138,886,194\n",
      " 104/01/04 75,845,629,353\n",
      " 104/01/05 76,850,752,698\n",
      " 104/01/06 88,101,921,548\n",
      " 104/01/09 71,323,370,369\n",
      " 104/01/10 97,168,542,017\n",
      " 104/01/11 88,786,671,892\n",
      " 104/01/12 78,947,910,460\n",
      " 104/01/13 99,286,437,370\n",
      " 104/01/16 76,842,611,338\n",
      " 104/01/17 101,133,309,290\n",
      " 104/01/18 113,988,641,382\n",
      " 104/01/30 143,900,658,474\n",
      " 104/01/31 162,361,181,834\n"
     ]
    }
   ],
   "source": [
    "import csv\n",
    "f = open(\"example.csv\",\"r\",encoding=\"utf-8\")\n",
    "for row in csv.DictReader(f):\n",
    "    print(row[\"日期\"],row[\"成交金額\"])"
   ]
  },
  {
   "cell_type": "code",
   "execution_count": null,
   "id": "38bab22d-b39f-43ba-84d3-0c1e4bfb2ea7",
   "metadata": {},
   "outputs": [],
   "source": []
  }
 ],
 "metadata": {
  "kernelspec": {
   "display_name": "Python 3 (ipykernel)",
   "language": "python",
   "name": "python3"
  },
  "language_info": {
   "codemirror_mode": {
    "name": "ipython",
    "version": 3
   },
   "file_extension": ".py",
   "mimetype": "text/x-python",
   "name": "python",
   "nbconvert_exporter": "python",
   "pygments_lexer": "ipython3",
   "version": "3.11.9"
  }
 },
 "nbformat": 4,
 "nbformat_minor": 5
}
